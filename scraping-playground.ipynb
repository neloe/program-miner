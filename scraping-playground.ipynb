{
 "cells": [
  {
   "cell_type": "code",
   "execution_count": 66,
   "metadata": {},
   "outputs": [],
   "source": [
    "import requests\n",
    "from bs4 import BeautifulSoup\n",
    "import pickle\n",
    "\n",
    "ALL_CLASSES = 'http://nwmissouri.smartcatalogiq.com/2020-2021/Undergraduate-Catalog/Courses/CSIS-Computer-Science-Info-Systems'\n",
    "PROGRAM_REQS = 'http://nwmissouri.smartcatalogiq.com/2020-2021/Undergraduate-Catalog/School-of-Computer-Science-and-Information-Systems/Computer-Science-and-Information-Systems-44/Computer-Science-Comprehensive-Major-6669-hours-BSNo-Minor-Required'\n",
    "BASE_URL='http://nwmissouri.smartcatalogiq.com'"
   ]
  },
  {
   "cell_type": "code",
   "execution_count": 67,
   "metadata": {},
   "outputs": [],
   "source": [
    "# get list of program requirements\n",
    "reqpage = requests.get(PROGRAM_REQS)\n",
    "reqsoup = BeautifulSoup(reqpage.text, 'html5lib')\n",
    "reqlist = [x.text.split()[1] for x in reqsoup.findAll('a', {'class': 'sc-courselink'}) if x.text.startswith('CSIS')]\n",
    "with open('csugrad.pkl', 'wb') as f:\n",
    "    pickle.dump(reqlist, f)"
   ]
  },
  {
   "cell_type": "code",
   "execution_count": 69,
   "metadata": {},
   "outputs": [],
   "source": [
    "# build prereq dependencies\n",
    "classpage = requests.get(ALL_CLASSES)\n",
    "classsoup = BeautifulSoup(classpage.text, 'html5lib')\n",
    "classlist = classsoup.find('ul', {'class': 'sc-child-item-links'})"
   ]
  },
  {
   "cell_type": "code",
   "execution_count": 70,
   "metadata": {},
   "outputs": [],
   "source": [
    "cnums = [x.text.split()[1] for x in classlist.findAll('a') if x.text.startswith('CSIS')]\n",
    "cnames = {x.text.split()[1]: ' '.join(x.text.split()[2:]) for x in classlist.findAll('a') if x.text.startswith('CSIS')}\n",
    "curls = {x.text.split()[1]: BASE_URL+x['href'] for x in classlist.findAll('a') if x.text.startswith('CSIS')}"
   ]
  },
  {
   "cell_type": "code",
   "execution_count": 46,
   "metadata": {},
   "outputs": [],
   "source": [
    "dspage = requests.get(curls['44242'])"
   ]
  },
  {
   "cell_type": "code",
   "execution_count": 47,
   "metadata": {},
   "outputs": [],
   "source": [
    "dssoup = BeautifulSoup(dspage.text)"
   ]
  },
  {
   "cell_type": "code",
   "execution_count": 51,
   "metadata": {},
   "outputs": [],
   "source": [
    "prereqs = [x.text.split()[1] for x in dssoup.findAll('a', {'class':'sc-courselink'}) if x.text.startswith('CSIS')]"
   ]
  },
  {
   "cell_type": "code",
   "execution_count": 52,
   "metadata": {},
   "outputs": [
    {
     "data": {
      "text/plain": [
       "['44241']"
      ]
     },
     "execution_count": 52,
     "metadata": {},
     "output_type": "execute_result"
    }
   ],
   "source": [
    "prereqs"
   ]
  },
  {
   "cell_type": "code",
   "execution_count": 53,
   "metadata": {},
   "outputs": [],
   "source": [
    "def pull_prereqs(url):\n",
    "    page = requests.get(url)\n",
    "    soup = BeautifulSoup(page.text, 'html5lib')\n",
    "    return [x.text.split()[1] for x in soup.findAll('a', {'class':'sc-courselink'}) if x.text.startswith('CSIS')]"
   ]
  },
  {
   "cell_type": "code",
   "execution_count": 55,
   "metadata": {},
   "outputs": [],
   "source": [
    "prereqs = {c: pull_prereqs(curls[c]) for c in curls}"
   ]
  },
  {
   "cell_type": "code",
   "execution_count": 56,
   "metadata": {},
   "outputs": [],
   "source": [
    "with open ('prereqs.pkl', 'wb') as f:\n",
    "    pickle.dump(prereqs, f)"
   ]
  },
  {
   "cell_type": "code",
   "execution_count": 57,
   "metadata": {},
   "outputs": [
    {
     "data": {
      "text/plain": [
       "{'44100': [],\n",
       " '44101': [],\n",
       " '44125': [],\n",
       " '44130': [],\n",
       " '44141': ['44101', '44130'],\n",
       " '44144': ['44101', '44130'],\n",
       " '44149': [],\n",
       " '44155': [],\n",
       " '44181': ['44101', '44130'],\n",
       " '44200': [],\n",
       " '44241': ['44141'],\n",
       " '44242': ['44241'],\n",
       " '44249': ['44141'],\n",
       " '44296': ['44141'],\n",
       " '44300': [],\n",
       " '44312': ['44101', '44130'],\n",
       " '44317': ['44101', '44130'],\n",
       " '44320': ['44101', '44130'],\n",
       " '44330': ['44101', '44130'],\n",
       " '44334': ['44144'],\n",
       " '44335': ['44334', '44141', '44144'],\n",
       " '44336': ['44101', '44130'],\n",
       " '44337': ['44336'],\n",
       " '44340': ['44101', '44130'],\n",
       " '44343': ['44101', '44130'],\n",
       " '44345': ['44242'],\n",
       " '44346': ['44101', '44130'],\n",
       " '44349': ['44242', '44249'],\n",
       " '44351': ['44242'],\n",
       " '44356': ['44130', '44101', '44542', '44542'],\n",
       " '44359': ['44356'],\n",
       " '44382': ['44242', '44356'],\n",
       " '44386': ['44241', '44296', '44356'],\n",
       " '44400': [],\n",
       " '44410': [],\n",
       " '44411': ['44317'],\n",
       " '44413': ['44141'],\n",
       " '44418': ['44317', '44411', '44561'],\n",
       " '44425': [],\n",
       " '44432': [],\n",
       " '44440': ['44242'],\n",
       " '44443': ['44242'],\n",
       " '44444': ['44242'],\n",
       " '44447': [],\n",
       " '44451': ['44443', '44444'],\n",
       " '44454': ['44320',\n",
       "  '44330',\n",
       "  '44336',\n",
       "  '44337',\n",
       "  '44340',\n",
       "  '44343',\n",
       "  '44346',\n",
       "  '44320',\n",
       "  '44330',\n",
       "  '44340'],\n",
       " '44457': ['44356', '44249'],\n",
       " '44460': ['44241', '44542', '44542'],\n",
       " '44464': ['44563'],\n",
       " '44470': [],\n",
       " '44471': [],\n",
       " '44480': [],\n",
       " '44481': ['44382', '44296'],\n",
       " '44484': ['44386'],\n",
       " '44495': [],\n",
       " '44499': [],\n",
       " '44500': [],\n",
       " '44515': [],\n",
       " '44516': ['44317'],\n",
       " '44517': ['44242', '44542', '44542'],\n",
       " '44520': ['44242', '44642'],\n",
       " '44525': ['44242', '44249', '44542', '44542'],\n",
       " '44542': [],\n",
       " '44550': ['44345', '44542', '44542'],\n",
       " '44555': ['44356', '44542', '44542'],\n",
       " '44560': ['44241', '44460', '44542', '44542'],\n",
       " '44561': ['44242', '44460'],\n",
       " '44562': ['44561'],\n",
       " '44563': ['44241', '44460', '44542', '44542'],\n",
       " '44566': ['44460', '44542', '44542'],\n",
       " '44582': [],\n",
       " '44585': [],\n",
       " '44590': [],\n",
       " '44599': []}"
      ]
     },
     "execution_count": 57,
     "metadata": {},
     "output_type": "execute_result"
    }
   ],
   "source": [
    "prereqs"
   ]
  },
  {
   "cell_type": "code",
   "execution_count": 58,
   "metadata": {},
   "outputs": [],
   "source": [
    "import json\n",
    "with open('prereqs.json', 'w') as f:\n",
    "    json.dump(prereqs, f)\n",
    "with open('csugrad.json', 'w') as f:\n",
    "    json.dump(reqlist, f)\n"
   ]
  },
  {
   "cell_type": "code",
   "execution_count": 59,
   "metadata": {},
   "outputs": [],
   "source": [
    "bscs_prereqs = {c: prereqs[c] for c in reqlist}"
   ]
  },
  {
   "cell_type": "code",
   "execution_count": 61,
   "metadata": {},
   "outputs": [],
   "source": [
    "with open('csonly_prereqs.json', 'w') as f:\n",
    "    json.dump(bscs_prereqs, f)"
   ]
  },
  {
   "cell_type": "code",
   "execution_count": 64,
   "metadata": {},
   "outputs": [],
   "source": [
    "import json\n",
    "with open('csonly_prereqs.json', 'r') as f:\n",
    "    bscs_prereqs = json.load(f)\n",
    "    "
   ]
  },
  {
   "cell_type": "code",
   "execution_count": 71,
   "metadata": {},
   "outputs": [],
   "source": [
    "import pickle\n",
    "with open('cnames.pkl', 'wb') as f:\n",
    "    pickle.dump(cnames, f)"
   ]
  },
  {
   "cell_type": "code",
   "execution_count": 87,
   "metadata": {},
   "outputs": [],
   "source": [
    "nodes = [{'id': c, 'group': int(c[2])} for c in prereqs]"
   ]
  },
  {
   "cell_type": "code",
   "execution_count": 88,
   "metadata": {},
   "outputs": [],
   "source": [
    "links = []\n",
    "for c in prereqs:\n",
    "    for pr in prereqs[c]:\n",
    "        if pr[2] != '6':\n",
    "            links.append({'source': pr, 'target': c, 'value': 1})"
   ]
  },
  {
   "cell_type": "code",
   "execution_count": 89,
   "metadata": {},
   "outputs": [],
   "source": [
    "with open('csprereqs_arc.json', 'w') as f:\n",
    "    json.dump({'nodes': nodes, 'links': links}, f)"
   ]
  },
  {
   "cell_type": "code",
   "execution_count": null,
   "metadata": {},
   "outputs": [],
   "source": []
  }
 ],
 "metadata": {
  "kernelspec": {
   "display_name": "Python 3",
   "language": "python",
   "name": "python3"
  },
  "language_info": {
   "codemirror_mode": {
    "name": "ipython",
    "version": 3
   },
   "file_extension": ".py",
   "mimetype": "text/x-python",
   "name": "python",
   "nbconvert_exporter": "python",
   "pygments_lexer": "ipython3",
   "version": "3.8.6"
  }
 },
 "nbformat": 4,
 "nbformat_minor": 4
}
