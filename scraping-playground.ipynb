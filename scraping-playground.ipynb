{
 "cells": [
  {
   "cell_type": "code",
   "execution_count": 1,
   "metadata": {},
   "outputs": [],
   "source": [
    "import requests\n",
    "from bs4 import BeautifulSoup\n",
    "import pickle\n",
    "\n",
    "ALL_CLASSES = 'http://nwmissouri.smartcatalogiq.com/2020-2021/Undergraduate-Catalog/Courses/CSIS-Computer-Science-Info-Systems'\n",
    "PROGRAM_REQS = 'http://nwmissouri.smartcatalogiq.com/2020-2021/Undergraduate-Catalog/School-of-Computer-Science-and-Information-Systems/Computer-Science-and-Information-Systems-44/Computer-Science-Comprehensive-Major-6669-hours-BSNo-Minor-Required'\n",
    "BASE_URL='http://nwmissouri.smartcatalogiq.com'"
   ]
  },
  {
   "cell_type": "code",
   "execution_count": 67,
   "metadata": {},
   "outputs": [],
   "source": [
    "# get list of program requirements\n",
    "reqpage = requests.get(PROGRAM_REQS)\n",
    "reqsoup = BeautifulSoup(reqpage.text, 'html5lib')\n",
    "reqlist = [x.text.split()[1] for x in reqsoup.findAll('a', {'class': 'sc-courselink'}) if x.text.startswith('CSIS')]\n",
    "with open('csugrad.pkl', 'wb') as f:\n",
    "    pickle.dump(reqlist, f)"
   ]
  },
  {
   "cell_type": "code",
   "execution_count": 2,
   "metadata": {},
   "outputs": [],
   "source": [
    "# build prereq dependencies\n",
    "classpage = requests.get(ALL_CLASSES)\n",
    "classsoup = BeautifulSoup(classpage.text, 'html5lib')\n",
    "classlist = classsoup.find('ul', {'class': 'sc-child-item-links'})"
   ]
  },
  {
   "cell_type": "code",
   "execution_count": 20,
   "metadata": {},
   "outputs": [],
   "source": [
    "cnums = [x.text.split()[1] for x in classlist.findAll('a') if x.text.startswith('CSIS')]\n",
    "cnames = {x.text.split()[1]: ' '.join(x.text.split()[2:]) for x in classlist.findAll('a') if x.text.startswith('CSIS')}\n",
    "#curls = {x.text.split()[1]: BASE_URL+x['href'] for x in classlist.findAll('a') if x.text.startswith('CSIS')}\n",
    "curls = {x.text.split()[1]: BASE_URL+x['href'] for x in classlist.findAll('a')}"
   ]
  },
  {
   "cell_type": "code",
   "execution_count": 46,
   "metadata": {},
   "outputs": [],
   "source": [
    "dspage = requests.get(curls['44242'])"
   ]
  },
  {
   "cell_type": "code",
   "execution_count": 47,
   "metadata": {},
   "outputs": [],
   "source": [
    "dssoup = BeautifulSoup(dspage.text)"
   ]
  },
  {
   "cell_type": "code",
   "execution_count": 7,
   "metadata": {},
   "outputs": [
    {
     "ename": "NameError",
     "evalue": "name 'dssoup' is not defined",
     "output_type": "error",
     "traceback": [
      "\u001b[1;31m---------------------------------------------------------------------------\u001b[0m",
      "\u001b[1;31mNameError\u001b[0m                                 Traceback (most recent call last)",
      "\u001b[1;32m<ipython-input-7-5b3432343658>\u001b[0m in \u001b[0;36m<module>\u001b[1;34m\u001b[0m\n\u001b[1;32m----> 1\u001b[1;33m \u001b[0mprereqs\u001b[0m \u001b[1;33m=\u001b[0m \u001b[1;33m[\u001b[0m\u001b[0mx\u001b[0m\u001b[1;33m.\u001b[0m\u001b[0mtext\u001b[0m\u001b[1;33m.\u001b[0m\u001b[0msplit\u001b[0m\u001b[1;33m(\u001b[0m\u001b[1;33m)\u001b[0m\u001b[1;33m[\u001b[0m\u001b[1;36m1\u001b[0m\u001b[1;33m]\u001b[0m \u001b[1;32mfor\u001b[0m \u001b[0mx\u001b[0m \u001b[1;32min\u001b[0m \u001b[0mdssoup\u001b[0m\u001b[1;33m.\u001b[0m\u001b[0mfindAll\u001b[0m\u001b[1;33m(\u001b[0m\u001b[1;34m'a'\u001b[0m\u001b[1;33m,\u001b[0m \u001b[1;33m{\u001b[0m\u001b[1;34m'class'\u001b[0m\u001b[1;33m:\u001b[0m\u001b[1;34m'sc-courselink'\u001b[0m\u001b[1;33m}\u001b[0m\u001b[1;33m)\u001b[0m \u001b[1;32mif\u001b[0m \u001b[0mx\u001b[0m\u001b[1;33m.\u001b[0m\u001b[0mtext\u001b[0m\u001b[1;33m.\u001b[0m\u001b[0mstartswith\u001b[0m\u001b[1;33m(\u001b[0m\u001b[1;34m'CSIS'\u001b[0m\u001b[1;33m)\u001b[0m\u001b[1;33m]\u001b[0m\u001b[1;33m\u001b[0m\u001b[1;33m\u001b[0m\u001b[0m\n\u001b[0m",
      "\u001b[1;31mNameError\u001b[0m: name 'dssoup' is not defined"
     ]
    }
   ],
   "source": [
    "prereqs = [x.text.split()[1] for x in dssoup.findAll('a', {'class':'sc-courselink'}) if x.text.startswith('CSIS')]"
   ]
  },
  {
   "cell_type": "code",
   "execution_count": 52,
   "metadata": {},
   "outputs": [
    {
     "data": {
      "text/plain": [
       "['44241']"
      ]
     },
     "execution_count": 52,
     "metadata": {},
     "output_type": "execute_result"
    }
   ],
   "source": [
    "prereqs"
   ]
  },
  {
   "cell_type": "code",
   "execution_count": 6,
   "metadata": {},
   "outputs": [],
   "source": [
    "def pull_prereqs(url):\n",
    "    page = requests.get(url)\n",
    "    soup = BeautifulSoup(page.text, 'html5lib')\n",
    "    #return [x.text.split()[1] for x in soup.findAll('a', {'class':'sc-courselink'}) if x.text.startswith('CSIS')]\n",
    "    return [x.text.split()[1] for x in soup.findAll('a', {'class':'sc-courselink'})]"
   ]
  },
  {
   "cell_type": "code",
   "execution_count": 21,
   "metadata": {},
   "outputs": [],
   "source": [
    "prereqs = {c: pull_prereqs(curls[c]) for c in curls}"
   ]
  },
  {
   "cell_type": "code",
   "execution_count": 10,
   "metadata": {},
   "outputs": [],
   "source": [
    "with open ('prereqs.pkl', 'wb') as f:\n",
    "    pickle.dump(prereqs, f)"
   ]
  },
  {
   "cell_type": "code",
   "execution_count": 22,
   "metadata": {},
   "outputs": [
    {
     "data": {
      "text/plain": [
       "{'44100': [],\n",
       " '44101': [],\n",
       " '44125': [],\n",
       " '44130': [],\n",
       " '44141': ['44101', '44130'],\n",
       " '44144': ['44101', '44130', '62130'],\n",
       " '44149': ['17117', '17120'],\n",
       " '44155': [],\n",
       " '44181': ['44101', '44130'],\n",
       " '44200': [],\n",
       " '44241': ['44141'],\n",
       " '44242': ['44241', '17114', '17117', '17118', '17120'],\n",
       " '44249': ['44141', '17117', '17118', '17120'],\n",
       " '44296': ['44141'],\n",
       " '44300': [],\n",
       " '44312': ['44101', '44130', '62130'],\n",
       " '44317': ['54313', '44101', '44130'],\n",
       " '44320': ['44101', '44130', '62130'],\n",
       " '44330': ['44101', '44130', '62130'],\n",
       " '44334': ['44144'],\n",
       " '44335': ['44334', '44141', '44144'],\n",
       " '44336': ['44101', '44130', '62130'],\n",
       " '44337': ['44336'],\n",
       " '44340': ['44101', '44130', '62130'],\n",
       " '44343': ['44101', '44130', '62130'],\n",
       " '44345': ['44242'],\n",
       " '44346': ['44101', '44130', '62130'],\n",
       " '44349': ['44242', '44249'],\n",
       " '44351': ['44242'],\n",
       " '44356': ['44130', '44101', '44542', '44542'],\n",
       " '44359': ['44356'],\n",
       " '44382': ['44242', '44356'],\n",
       " '44386': ['44241', '44296', '44356'],\n",
       " '44400': [],\n",
       " '44410': [],\n",
       " '44411': ['44317'],\n",
       " '44413': ['17114', '44141'],\n",
       " '44418': ['44317', '44411', '44561'],\n",
       " '44425': [],\n",
       " '44432': [],\n",
       " '44440': ['44242'],\n",
       " '44443': ['44242'],\n",
       " '44444': ['44242'],\n",
       " '44447': [],\n",
       " '44451': ['44443', '44444'],\n",
       " '44454': ['44320',\n",
       "  '44330',\n",
       "  '44336',\n",
       "  '44337',\n",
       "  '44340',\n",
       "  '44343',\n",
       "  '44346',\n",
       "  '44320',\n",
       "  '44330',\n",
       "  '44340'],\n",
       " '44457': ['44356', '44249'],\n",
       " '44460': ['44241', '44542', '44542'],\n",
       " '44464': ['44563'],\n",
       " '44470': [],\n",
       " '44471': [],\n",
       " '44480': [],\n",
       " '44481': ['44382', '44296'],\n",
       " '44484': ['44386'],\n",
       " '44495': [],\n",
       " '44499': [],\n",
       " '44500': [],\n",
       " '44515': [],\n",
       " '44516': ['44317'],\n",
       " '44517': ['17230', '17316', '44242', '44542', '44542'],\n",
       " '44520': ['44242', '44642'],\n",
       " '44525': ['44242', '44249', '44542', '44542'],\n",
       " '44542': [],\n",
       " '44550': ['44345', '44542', '44542'],\n",
       " '44555': ['44356', '44542', '44542'],\n",
       " '44560': ['44241', '44460', '44542', '44542'],\n",
       " '44561': ['44242', '44460'],\n",
       " '44562': ['44561'],\n",
       " '44563': ['44241', '44460', '44542', '44542'],\n",
       " '44566': ['44460', '44542', '44542'],\n",
       " '44582': [],\n",
       " '44585': [],\n",
       " '44590': [],\n",
       " '44599': []}"
      ]
     },
     "execution_count": 22,
     "metadata": {},
     "output_type": "execute_result"
    }
   ],
   "source": [
    "prereqs"
   ]
  },
  {
   "cell_type": "code",
   "execution_count": 58,
   "metadata": {},
   "outputs": [],
   "source": [
    "import json\n",
    "with open('prereqs.json', 'w') as f:\n",
    "    json.dump(prereqs, f)\n",
    "with open('csugrad.json', 'w') as f:\n",
    "    json.dump(reqlist, f)\n"
   ]
  },
  {
   "cell_type": "code",
   "execution_count": 59,
   "metadata": {},
   "outputs": [],
   "source": [
    "bscs_prereqs = {c: prereqs[c] for c in reqlist}"
   ]
  },
  {
   "cell_type": "code",
   "execution_count": 61,
   "metadata": {},
   "outputs": [],
   "source": [
    "with open('csonly_prereqs.json', 'w') as f:\n",
    "    json.dump(bscs_prereqs, f)"
   ]
  },
  {
   "cell_type": "code",
   "execution_count": 64,
   "metadata": {},
   "outputs": [],
   "source": [
    "import json\n",
    "with open('csonly_prereqs.json', 'r') as f:\n",
    "    bscs_prereqs = json.load(f)\n",
    "    "
   ]
  },
  {
   "cell_type": "code",
   "execution_count": 71,
   "metadata": {},
   "outputs": [],
   "source": [
    "import pickle\n",
    "with open('cnames.pkl', 'wb') as f:\n",
    "    pickle.dump(cnames, f)"
   ]
  },
  {
   "cell_type": "code",
   "execution_count": 11,
   "metadata": {},
   "outputs": [],
   "source": [
    "nodes = [{'id': c, 'name': cnames.get(c, '') , 'group': int(c[2])} for c in prereqs]"
   ]
  },
  {
   "cell_type": "code",
   "execution_count": 12,
   "metadata": {},
   "outputs": [],
   "source": [
    "links = []\n",
    "for c in prereqs:\n",
    "    for pr in prereqs[c]:\n",
    "        if pr[2] != '6':\n",
    "            links.append({'source': pr, 'target': c, 'value': 1})"
   ]
  },
  {
   "cell_type": "code",
   "execution_count": 14,
   "metadata": {},
   "outputs": [],
   "source": [
    "import json\n",
    "with open('csprereqs_arc.json', 'w') as f:\n",
    "    json.dump({'nodes': nodes, 'links': links}, f)"
   ]
  },
  {
   "cell_type": "code",
   "execution_count": 16,
   "metadata": {},
   "outputs": [
    {
     "data": {
      "text/plain": [
       "[{'id': '44100', 'name': 'Special Offering', 'group': 1},\n",
       " {'id': '44101', 'name': 'Foundations of Computing', 'group': 1},\n",
       " {'id': '44125', 'name': 'Special Topics', 'group': 1},\n",
       " {'id': '44130', 'name': 'Computers and Information Technology', 'group': 1},\n",
       " {'id': '44141', 'name': 'Computer Programming I', 'group': 1},\n",
       " {'id': '44144', 'name': 'Web Development I', 'group': 1},\n",
       " {'id': '44149', 'name': 'Scientific Computing', 'group': 1},\n",
       " {'id': '44155',\n",
       "  'name': 'Introduction to Data Science and Data Mining',\n",
       "  'group': 1},\n",
       " {'id': '44181', 'name': 'Introduction to Cybersecurity', 'group': 1},\n",
       " {'id': '44200', 'name': 'Special Offering', 'group': 2},\n",
       " {'id': '44241', 'name': 'Computer Programming II', 'group': 2},\n",
       " {'id': '44242', 'name': 'Data Structures', 'group': 2},\n",
       " {'id': '44249',\n",
       "  'name': 'Building Blocks of Theoretical Computer Science',\n",
       "  'group': 2},\n",
       " {'id': '44296', 'name': 'Professional Development Seminar', 'group': 2},\n",
       " {'id': '44300', 'name': 'Special Offering', 'group': 3},\n",
       " {'id': '44312',\n",
       "  'name': 'Information Technology Hardware and Software',\n",
       "  'group': 3},\n",
       " {'id': '44317', 'name': 'Management Information Systems', 'group': 3},\n",
       " {'id': '44320', 'name': 'Advanced Word Processing', 'group': 3},\n",
       " {'id': '44330', 'name': 'Presentation Graphics', 'group': 3},\n",
       " {'id': '44334', 'name': 'Web Development II', 'group': 3},\n",
       " {'id': '44335', 'name': 'Script Programming', 'group': 3},\n",
       " {'id': '44336', 'name': 'Spreadsheet Applications', 'group': 3},\n",
       " {'id': '44337', 'name': 'Advanced Spreadsheets and Charting', 'group': 3},\n",
       " {'id': '44340', 'name': 'Digital Media', 'group': 3},\n",
       " {'id': '44343', 'name': 'Digital Communications', 'group': 3},\n",
       " {'id': '44345', 'name': 'Computer Organization', 'group': 3},\n",
       " {'id': '44346', 'name': 'Database Applications', 'group': 3},\n",
       " {'id': '44349', 'name': 'A Survey of Algorithms', 'group': 3},\n",
       " {'id': '44351', 'name': 'Foundations of Game Development', 'group': 3},\n",
       " {'id': '44356', 'name': 'Network Fundamentals', 'group': 3},\n",
       " {'id': '44359', 'name': 'Secure System Administration', 'group': 3},\n",
       " {'id': '44382', 'name': 'Secure Programming', 'group': 3},\n",
       " {'id': '44386', 'name': 'Digital Forensics', 'group': 3},\n",
       " {'id': '44400', 'name': 'Special Offering', 'group': 4},\n",
       " {'id': '44410', 'name': 'Coordination of Cooperative Education', 'group': 4},\n",
       " {'id': '44411', 'name': 'Systems Analysis and Design', 'group': 4},\n",
       " {'id': '44413', 'name': 'Visualization', 'group': 4},\n",
       " {'id': '44418',\n",
       "  'name': 'Information Technology Project Management',\n",
       "  'group': 4},\n",
       " {'id': '44425', 'name': 'Knacktive', 'group': 4},\n",
       " {'id': '44432', 'name': 'Business Intelligence and Analytics', 'group': 4},\n",
       " {'id': '44440', 'name': 'Internet of Things', 'group': 4},\n",
       " {'id': '44443', 'name': 'Mobile Computing-iOS', 'group': 4},\n",
       " {'id': '44444', 'name': 'Mobile Computing-Android', 'group': 4},\n",
       " {'id': '44447',\n",
       "  'name': 'Current Topics in Office Information Systems',\n",
       "  'group': 4},\n",
       " {'id': '44451', 'name': 'Advanced Topics in Mobile Computing', 'group': 4},\n",
       " {'id': '44454',\n",
       "  'name': 'Senior Capstone: Business Technology Integration',\n",
       "  'group': 4},\n",
       " {'id': '44457', 'name': 'Applied Cryptography', 'group': 4},\n",
       " {'id': '44460', 'name': 'Database Systems', 'group': 4},\n",
       " {'id': '44464', 'name': 'User Experience/User Interface Design', 'group': 4},\n",
       " {'id': '44470',\n",
       "  'name': 'Implementing Business and Marketing Education Programs',\n",
       "  'group': 4},\n",
       " {'id': '44471', 'name': 'Practicum in Computer Science Teaching', 'group': 4},\n",
       " {'id': '44480',\n",
       "  'name': 'Methods of Teaching Business and Marketing',\n",
       "  'group': 4},\n",
       " {'id': '44481', 'name': 'Ethical Hacking', 'group': 4},\n",
       " {'id': '44484',\n",
       "  'name': 'Cyber Risk Management and Incident Response',\n",
       "  'group': 4},\n",
       " {'id': '44495',\n",
       "  'name': 'Internship in Computer Science/Information Systems',\n",
       "  'group': 4},\n",
       " {'id': '44499', 'name': 'Independent Study', 'group': 4},\n",
       " {'id': '44500', 'name': 'Special Offering', 'group': 5},\n",
       " {'id': '44515', 'name': 'Effective Assessment', 'group': 5},\n",
       " {'id': '44516', 'name': 'Current Topics in Information Systems', 'group': 5},\n",
       " {'id': '44517', 'name': 'Big Data', 'group': 5},\n",
       " {'id': '44520', 'name': 'Web Mining', 'group': 5},\n",
       " {'id': '44525',\n",
       "  'name': 'Theory and Implementation of Programming Languages',\n",
       "  'group': 5},\n",
       " {'id': '44542', 'name': 'Object-Oriented Programming', 'group': 5},\n",
       " {'id': '44550', 'name': 'Operating Systems', 'group': 5},\n",
       " {'id': '44555', 'name': 'Network Security', 'group': 5},\n",
       " {'id': '44560', 'name': 'Advanced Topics in Database Systems', 'group': 5},\n",
       " {'id': '44561', 'name': 'Software Engineering Principles', 'group': 5},\n",
       " {'id': '44562', 'name': 'Software Engineering Practice', 'group': 5},\n",
       " {'id': '44563',\n",
       "  'name': 'Developing Web Applications and Services',\n",
       "  'group': 5},\n",
       " {'id': '44566', 'name': 'Applied Data Analytics', 'group': 5},\n",
       " {'id': '44582', 'name': 'Technology Curriculum and Integration', 'group': 5},\n",
       " {'id': '44585',\n",
       "  'name': 'Instructional Technology and the Learning Process',\n",
       "  'group': 5},\n",
       " {'id': '44590', 'name': 'Current Topics in Computer Science', 'group': 5},\n",
       " {'id': '44599', 'name': 'Special Projects', 'group': 5}]"
      ]
     },
     "execution_count": 16,
     "metadata": {},
     "output_type": "execute_result"
    }
   ],
   "source": [
    "nodes"
   ]
  },
  {
   "cell_type": "code",
   "execution_count": 18,
   "metadata": {},
   "outputs": [
    {
     "data": {
      "text/plain": [
       "{'44100': [],\n",
       " '44101': [],\n",
       " '44125': [],\n",
       " '44130': [],\n",
       " '44141': ['44101', '44130'],\n",
       " '44144': ['44101', '44130', '62130'],\n",
       " '44149': ['17117', '17120'],\n",
       " '44155': [],\n",
       " '44181': ['44101', '44130'],\n",
       " '44200': [],\n",
       " '44241': ['44141'],\n",
       " '44242': ['44241', '17114', '17117', '17118', '17120'],\n",
       " '44249': ['44141', '17117', '17118', '17120'],\n",
       " '44296': ['44141'],\n",
       " '44300': [],\n",
       " '44312': ['44101', '44130', '62130'],\n",
       " '44317': ['54313', '44101', '44130'],\n",
       " '44320': ['44101', '44130', '62130'],\n",
       " '44330': ['44101', '44130', '62130'],\n",
       " '44334': ['44144'],\n",
       " '44335': ['44334', '44141', '44144'],\n",
       " '44336': ['44101', '44130', '62130'],\n",
       " '44337': ['44336'],\n",
       " '44340': ['44101', '44130', '62130'],\n",
       " '44343': ['44101', '44130', '62130'],\n",
       " '44345': ['44242'],\n",
       " '44346': ['44101', '44130', '62130'],\n",
       " '44349': ['44242', '44249'],\n",
       " '44351': ['44242'],\n",
       " '44356': ['44130', '44101', '44542', '44542'],\n",
       " '44359': ['44356'],\n",
       " '44382': ['44242', '44356'],\n",
       " '44386': ['44241', '44296', '44356'],\n",
       " '44400': [],\n",
       " '44410': [],\n",
       " '44411': ['44317'],\n",
       " '44413': ['17114', '44141'],\n",
       " '44418': ['44317', '44411', '44561'],\n",
       " '44425': [],\n",
       " '44432': [],\n",
       " '44440': ['44242'],\n",
       " '44443': ['44242'],\n",
       " '44444': ['44242'],\n",
       " '44447': [],\n",
       " '44451': ['44443', '44444'],\n",
       " '44454': ['44320',\n",
       "  '44330',\n",
       "  '44336',\n",
       "  '44337',\n",
       "  '44340',\n",
       "  '44343',\n",
       "  '44346',\n",
       "  '44320',\n",
       "  '44330',\n",
       "  '44340'],\n",
       " '44457': ['44356', '44249'],\n",
       " '44460': ['44241', '44542', '44542'],\n",
       " '44464': ['44563'],\n",
       " '44470': [],\n",
       " '44471': [],\n",
       " '44480': [],\n",
       " '44481': ['44382', '44296'],\n",
       " '44484': ['44386'],\n",
       " '44495': [],\n",
       " '44499': [],\n",
       " '44500': [],\n",
       " '44515': [],\n",
       " '44516': ['44317'],\n",
       " '44517': ['17230', '17316', '44242', '44542', '44542'],\n",
       " '44520': ['44242', '44642'],\n",
       " '44525': ['44242', '44249', '44542', '44542'],\n",
       " '44542': [],\n",
       " '44550': ['44345', '44542', '44542'],\n",
       " '44555': ['44356', '44542', '44542'],\n",
       " '44560': ['44241', '44460', '44542', '44542'],\n",
       " '44561': ['44242', '44460'],\n",
       " '44562': ['44561'],\n",
       " '44563': ['44241', '44460', '44542', '44542'],\n",
       " '44566': ['44460', '44542', '44542'],\n",
       " '44582': [],\n",
       " '44585': [],\n",
       " '44590': [],\n",
       " '44599': []}"
      ]
     },
     "execution_count": 18,
     "metadata": {},
     "output_type": "execute_result"
    }
   ],
   "source": [
    "prereqs"
   ]
  },
  {
   "cell_type": "code",
   "execution_count": 23,
   "metadata": {},
   "outputs": [
    {
     "data": {
      "text/plain": [
       "{'44100': 'http://nwmissouri.smartcatalogiq.com/en/2020-2021/Undergraduate-Catalog/Courses/CSIS-Computer-Science-Info-Systems/40000/CSIS-44100',\n",
       " '44101': 'http://nwmissouri.smartcatalogiq.com/en/2020-2021/Undergraduate-Catalog/Courses/CSIS-Computer-Science-Info-Systems/40000/CSIS-44101',\n",
       " '44125': 'http://nwmissouri.smartcatalogiq.com/en/2020-2021/Undergraduate-Catalog/Courses/CSIS-Computer-Science-Info-Systems/40000/CSIS-44125',\n",
       " '44130': 'http://nwmissouri.smartcatalogiq.com/en/2020-2021/Undergraduate-Catalog/Courses/CSIS-Computer-Science-Info-Systems/40000/CSIS-44130',\n",
       " '44141': 'http://nwmissouri.smartcatalogiq.com/en/2020-2021/Undergraduate-Catalog/Courses/CSIS-Computer-Science-Info-Systems/40000/CSIS-44141',\n",
       " '44144': 'http://nwmissouri.smartcatalogiq.com/en/2020-2021/Undergraduate-Catalog/Courses/CSIS-Computer-Science-Info-Systems/40000/CSIS-44144',\n",
       " '44149': 'http://nwmissouri.smartcatalogiq.com/en/2020-2021/Undergraduate-Catalog/Courses/CSIS-Computer-Science-Info-Systems/40000/CSIS-44149',\n",
       " '44155': 'http://nwmissouri.smartcatalogiq.com/en/2020-2021/Undergraduate-Catalog/Courses/CSIS-Computer-Science-Info-Systems/40000/CSIS-44155',\n",
       " '44181': 'http://nwmissouri.smartcatalogiq.com/en/2020-2021/Undergraduate-Catalog/Courses/CSIS-Computer-Science-Info-Systems/40000/CSIS-44181',\n",
       " '44200': 'http://nwmissouri.smartcatalogiq.com/en/2020-2021/Undergraduate-Catalog/Courses/CSIS-Computer-Science-Info-Systems/40000/CSIS-44200',\n",
       " '44241': 'http://nwmissouri.smartcatalogiq.com/en/2020-2021/Undergraduate-Catalog/Courses/CSIS-Computer-Science-Info-Systems/40000/CSIS-44241',\n",
       " '44242': 'http://nwmissouri.smartcatalogiq.com/en/2020-2021/Undergraduate-Catalog/Courses/CSIS-Computer-Science-Info-Systems/40000/CSIS-44242',\n",
       " '44249': 'http://nwmissouri.smartcatalogiq.com/en/2020-2021/Undergraduate-Catalog/Courses/CSIS-Computer-Science-Info-Systems/40000/CSIS-44249',\n",
       " '44296': 'http://nwmissouri.smartcatalogiq.com/en/2020-2021/Undergraduate-Catalog/Courses/CSIS-Computer-Science-Info-Systems/40000/CSIS-44296',\n",
       " '44300': 'http://nwmissouri.smartcatalogiq.com/en/2020-2021/Undergraduate-Catalog/Courses/CSIS-Computer-Science-Info-Systems/40000/CSIS-44300',\n",
       " '44312': 'http://nwmissouri.smartcatalogiq.com/en/2020-2021/Undergraduate-Catalog/Courses/CSIS-Computer-Science-Info-Systems/40000/CSIS-44312',\n",
       " '44317': 'http://nwmissouri.smartcatalogiq.com/en/2020-2021/Undergraduate-Catalog/Courses/CSIS-Computer-Science-Info-Systems/40000/CSIS-44317',\n",
       " '44320': 'http://nwmissouri.smartcatalogiq.com/en/2020-2021/Undergraduate-Catalog/Courses/CSIS-Computer-Science-Info-Systems/40000/CSIS-44320',\n",
       " '44330': 'http://nwmissouri.smartcatalogiq.com/en/2020-2021/Undergraduate-Catalog/Courses/CSIS-Computer-Science-Info-Systems/40000/CSIS-44330',\n",
       " '44334': 'http://nwmissouri.smartcatalogiq.com/en/2020-2021/Undergraduate-Catalog/Courses/CSIS-Computer-Science-Info-Systems/40000/CSIS-44334',\n",
       " '44335': 'http://nwmissouri.smartcatalogiq.com/en/2020-2021/Undergraduate-Catalog/Courses/CSIS-Computer-Science-Info-Systems/40000/CSIS-44335',\n",
       " '44336': 'http://nwmissouri.smartcatalogiq.com/en/2020-2021/Undergraduate-Catalog/Courses/CSIS-Computer-Science-Info-Systems/40000/CSIS-44336',\n",
       " '44337': 'http://nwmissouri.smartcatalogiq.com/en/2020-2021/Undergraduate-Catalog/Courses/CSIS-Computer-Science-Info-Systems/40000/CSIS-44337',\n",
       " '44340': 'http://nwmissouri.smartcatalogiq.com/en/2020-2021/Undergraduate-Catalog/Courses/CSIS-Computer-Science-Info-Systems/40000/CSIS-44340',\n",
       " '44343': 'http://nwmissouri.smartcatalogiq.com/en/2020-2021/Undergraduate-Catalog/Courses/CSIS-Computer-Science-Info-Systems/40000/CSIS-44343',\n",
       " '44345': 'http://nwmissouri.smartcatalogiq.com/en/2020-2021/Undergraduate-Catalog/Courses/CSIS-Computer-Science-Info-Systems/40000/CSIS-44345',\n",
       " '44346': 'http://nwmissouri.smartcatalogiq.com/en/2020-2021/Undergraduate-Catalog/Courses/CSIS-Computer-Science-Info-Systems/40000/CSIS-44346',\n",
       " '44349': 'http://nwmissouri.smartcatalogiq.com/en/2020-2021/Undergraduate-Catalog/Courses/CSIS-Computer-Science-Info-Systems/40000/CSIS-44349',\n",
       " '44351': 'http://nwmissouri.smartcatalogiq.com/en/2020-2021/Undergraduate-Catalog/Courses/CSIS-Computer-Science-Info-Systems/40000/CSIS-44351',\n",
       " '44356': 'http://nwmissouri.smartcatalogiq.com/en/2020-2021/Undergraduate-Catalog/Courses/CSIS-Computer-Science-Info-Systems/40000/CSIS-44356',\n",
       " '44359': 'http://nwmissouri.smartcatalogiq.com/en/2020-2021/Undergraduate-Catalog/Courses/CSIS-Computer-Science-Info-Systems/40000/CSIS-44359',\n",
       " '44382': 'http://nwmissouri.smartcatalogiq.com/en/2020-2021/Undergraduate-Catalog/Courses/CSIS-Computer-Science-Info-Systems/40000/CSIS-44382',\n",
       " '44386': 'http://nwmissouri.smartcatalogiq.com/en/2020-2021/Undergraduate-Catalog/Courses/CSIS-Computer-Science-Info-Systems/40000/CSIS-44386',\n",
       " '44400': 'http://nwmissouri.smartcatalogiq.com/en/2020-2021/Undergraduate-Catalog/Courses/CSIS-Computer-Science-Info-Systems/40000/CSIS-44400',\n",
       " '44410': 'http://nwmissouri.smartcatalogiq.com/en/2020-2021/Undergraduate-Catalog/Courses/CSIS-Computer-Science-Info-Systems/40000/CSIS-44410',\n",
       " '44411': 'http://nwmissouri.smartcatalogiq.com/en/2020-2021/Undergraduate-Catalog/Courses/CSIS-Computer-Science-Info-Systems/40000/CSIS-44411',\n",
       " '44413': 'http://nwmissouri.smartcatalogiq.com/en/2020-2021/Undergraduate-Catalog/Courses/CSIS-Computer-Science-Info-Systems/40000/CSIS-44413',\n",
       " '44418': 'http://nwmissouri.smartcatalogiq.com/en/2020-2021/Undergraduate-Catalog/Courses/CSIS-Computer-Science-Info-Systems/40000/CSIS-44418',\n",
       " '44425': 'http://nwmissouri.smartcatalogiq.com/en/2020-2021/Undergraduate-Catalog/Courses/CSIS-Computer-Science-Info-Systems/40000/CSIS-44425',\n",
       " '44432': 'http://nwmissouri.smartcatalogiq.com/en/2020-2021/Undergraduate-Catalog/Courses/CSIS-Computer-Science-Info-Systems/40000/CSIS-44432',\n",
       " '44440': 'http://nwmissouri.smartcatalogiq.com/en/2020-2021/Undergraduate-Catalog/Courses/CSIS-Computer-Science-Info-Systems/40000/CSIS-44440',\n",
       " '44443': 'http://nwmissouri.smartcatalogiq.com/en/2020-2021/Undergraduate-Catalog/Courses/CSIS-Computer-Science-Info-Systems/40000/CSIS-44443',\n",
       " '44444': 'http://nwmissouri.smartcatalogiq.com/en/2020-2021/Undergraduate-Catalog/Courses/CSIS-Computer-Science-Info-Systems/40000/CSIS-44444',\n",
       " '44447': 'http://nwmissouri.smartcatalogiq.com/en/2020-2021/Undergraduate-Catalog/Courses/CSIS-Computer-Science-Info-Systems/40000/CSIS-44447',\n",
       " '44451': 'http://nwmissouri.smartcatalogiq.com/en/2020-2021/Undergraduate-Catalog/Courses/CSIS-Computer-Science-Info-Systems/40000/CSIS-44451',\n",
       " '44454': 'http://nwmissouri.smartcatalogiq.com/en/2020-2021/Undergraduate-Catalog/Courses/CSIS-Computer-Science-Info-Systems/40000/CSIS-44454',\n",
       " '44457': 'http://nwmissouri.smartcatalogiq.com/en/2020-2021/Undergraduate-Catalog/Courses/CSIS-Computer-Science-Info-Systems/40000/CSIS-44457',\n",
       " '44460': 'http://nwmissouri.smartcatalogiq.com/en/2020-2021/Undergraduate-Catalog/Courses/CSIS-Computer-Science-Info-Systems/40000/CSIS-44460',\n",
       " '44464': 'http://nwmissouri.smartcatalogiq.com/en/2020-2021/Undergraduate-Catalog/Courses/CSIS-Computer-Science-Info-Systems/40000/CSIS-44464',\n",
       " '44470': 'http://nwmissouri.smartcatalogiq.com/en/2020-2021/Undergraduate-Catalog/Courses/CSIS-Computer-Science-Info-Systems/40000/CSIS-44470',\n",
       " '44471': 'http://nwmissouri.smartcatalogiq.com/en/2020-2021/Undergraduate-Catalog/Courses/CSIS-Computer-Science-Info-Systems/40000/CSIS-44471',\n",
       " '44480': 'http://nwmissouri.smartcatalogiq.com/en/2020-2021/Undergraduate-Catalog/Courses/CSIS-Computer-Science-Info-Systems/40000/CSIS-44480',\n",
       " '44481': 'http://nwmissouri.smartcatalogiq.com/en/2020-2021/Undergraduate-Catalog/Courses/CSIS-Computer-Science-Info-Systems/40000/CSIS-44481',\n",
       " '44484': 'http://nwmissouri.smartcatalogiq.com/en/2020-2021/Undergraduate-Catalog/Courses/CSIS-Computer-Science-Info-Systems/40000/CSIS-44484',\n",
       " '44495': 'http://nwmissouri.smartcatalogiq.com/en/2020-2021/Undergraduate-Catalog/Courses/CSIS-Computer-Science-Info-Systems/40000/CSIS-44495',\n",
       " '44499': 'http://nwmissouri.smartcatalogiq.com/en/2020-2021/Undergraduate-Catalog/Courses/CSIS-Computer-Science-Info-Systems/40000/CSIS-44499',\n",
       " '44500': 'http://nwmissouri.smartcatalogiq.com/en/2020-2021/Undergraduate-Catalog/Courses/CSIS-Computer-Science-Info-Systems/40000/CSIS-44500',\n",
       " '44515': 'http://nwmissouri.smartcatalogiq.com/en/2020-2021/Undergraduate-Catalog/Courses/CSIS-Computer-Science-Info-Systems/40000/CSIS-44515',\n",
       " '44516': 'http://nwmissouri.smartcatalogiq.com/en/2020-2021/Undergraduate-Catalog/Courses/CSIS-Computer-Science-Info-Systems/40000/CSIS-44516',\n",
       " '44517': 'http://nwmissouri.smartcatalogiq.com/en/2020-2021/Undergraduate-Catalog/Courses/CSIS-Computer-Science-Info-Systems/40000/CSIS-44517',\n",
       " '44520': 'http://nwmissouri.smartcatalogiq.com/en/2020-2021/Undergraduate-Catalog/Courses/CSIS-Computer-Science-Info-Systems/40000/CSIS-44520',\n",
       " '44525': 'http://nwmissouri.smartcatalogiq.com/en/2020-2021/Undergraduate-Catalog/Courses/CSIS-Computer-Science-Info-Systems/40000/CSIS-44525',\n",
       " '44542': 'http://nwmissouri.smartcatalogiq.com/en/2020-2021/Undergraduate-Catalog/Courses/CSIS-Computer-Science-Info-Systems/40000/CSIS-44542',\n",
       " '44550': 'http://nwmissouri.smartcatalogiq.com/en/2020-2021/Undergraduate-Catalog/Courses/CSIS-Computer-Science-Info-Systems/40000/CSIS-44550',\n",
       " '44555': 'http://nwmissouri.smartcatalogiq.com/en/2020-2021/Undergraduate-Catalog/Courses/CSIS-Computer-Science-Info-Systems/40000/CSIS-44555',\n",
       " '44560': 'http://nwmissouri.smartcatalogiq.com/en/2020-2021/Undergraduate-Catalog/Courses/CSIS-Computer-Science-Info-Systems/40000/CSIS-44560',\n",
       " '44561': 'http://nwmissouri.smartcatalogiq.com/en/2020-2021/Undergraduate-Catalog/Courses/CSIS-Computer-Science-Info-Systems/40000/CSIS-44561',\n",
       " '44562': 'http://nwmissouri.smartcatalogiq.com/en/2020-2021/Undergraduate-Catalog/Courses/CSIS-Computer-Science-Info-Systems/40000/CSIS-44562',\n",
       " '44563': 'http://nwmissouri.smartcatalogiq.com/en/2020-2021/Undergraduate-Catalog/Courses/CSIS-Computer-Science-Info-Systems/40000/CSIS-44563',\n",
       " '44566': 'http://nwmissouri.smartcatalogiq.com/en/2020-2021/Undergraduate-Catalog/Courses/CSIS-Computer-Science-Info-Systems/40000/CSIS-44566',\n",
       " '44582': 'http://nwmissouri.smartcatalogiq.com/en/2020-2021/Undergraduate-Catalog/Courses/CSIS-Computer-Science-Info-Systems/40000/CSIS-44582',\n",
       " '44585': 'http://nwmissouri.smartcatalogiq.com/en/2020-2021/Undergraduate-Catalog/Courses/CSIS-Computer-Science-Info-Systems/40000/CSIS-44585',\n",
       " '44590': 'http://nwmissouri.smartcatalogiq.com/en/2020-2021/Undergraduate-Catalog/Courses/CSIS-Computer-Science-Info-Systems/40000/CSIS-44590',\n",
       " '44599': 'http://nwmissouri.smartcatalogiq.com/en/2020-2021/Undergraduate-Catalog/Courses/CSIS-Computer-Science-Info-Systems/40000/CSIS-44599'}"
      ]
     },
     "execution_count": 23,
     "metadata": {},
     "output_type": "execute_result"
    }
   ],
   "source": [
    "curls"
   ]
  },
  {
   "cell_type": "code",
   "execution_count": 24,
   "metadata": {},
   "outputs": [],
   "source": [
    "p = requests.get('http://nwmissouri.smartcatalogiq.com/en/2020-2021/Undergraduate-Catalog/Courses')\n",
    "s = BeautifulSoup(p.text, 'html5lib')"
   ]
  },
  {
   "cell_type": "code",
   "execution_count": 27,
   "metadata": {},
   "outputs": [
    {
     "data": {
      "text/plain": [
       "[<ul class=\"sc-child-item-links\">\n",
       " \t<li><a href=\"/en/2020-2021/Undergraduate-Catalog/Courses/ACCT-Accounting\">ACCT - Accounting</a></li><li><a href=\"/en/2020-2021/Undergraduate-Catalog/Courses/AGRI-Agriculture\">AGRI - Agriculture</a></li><li><a href=\"/en/2020-2021/Undergraduate-Catalog/Courses/ARSC-College-of-Arts-and-Sciences\">ARSC - College of Arts and Sciences</a></li><li><a href=\"/en/2020-2021/Undergraduate-Catalog/Courses/ART-Art\">ART - Art</a></li><li><a href=\"/en/2020-2021/Undergraduate-Catalog/Courses/BIOL-Biological-Sciences\">BIOL - Biological Sciences</a></li><li><a href=\"/en/2020-2021/Undergraduate-Catalog/Courses/CHEM-Chemistry\">CHEM - Chemistry</a></li><li><a href=\"/en/2020-2021/Undergraduate-Catalog/Courses/COM-Communication\">COM - Communication</a></li><li><a href=\"/en/2020-2021/Undergraduate-Catalog/Courses/CORE-Northwest-Core-Interdisciplinary-Engagement\">CORE - Northwest Core Interdisciplinary Engagement</a></li><li><a href=\"/en/2020-2021/Undergraduate-Catalog/Courses/CSIS-Computer-Science-Info-Systems\">CSIS - Computer Science Info Systems</a></li><li><a href=\"/en/2020-2021/Undergraduate-Catalog/Courses/CRIM-Criminology\">CRIM - Criminology</a></li><li><a href=\"/en/2020-2021/Undergraduate-Catalog/Courses/ECON-Economics\">ECON - Economics</a></li><li><a href=\"/en/2020-2021/Undergraduate-Catalog/Courses/EDCI-Education-Curriculum-Instr\">EDCI - Education: Curriculum &amp; Instruction</a></li><li><a href=\"/en/2020-2021/Undergraduate-Catalog/Courses/EDM-Emergency-and-Disaster-Management\">EDM - Emergency and Disaster Management</a></li><li><a href=\"/en/2020-2021/Undergraduate-Catalog/Courses/EDUC-Education-General-Leadership\">EDUC - Education: General Leadership</a></li><li><a href=\"/en/2020-2021/Undergraduate-Catalog/Courses/ENGL-English\">ENGL - English</a></li><li><a href=\"/en/2020-2021/Undergraduate-Catalog/Courses/FIN-Finance\">FIN - Finance</a></li><li><a href=\"/en/2020-2021/Undergraduate-Catalog/Courses/GEOG-Geography\">GEOG - Geography</a></li><li><a href=\"/en/2020-2021/Undergraduate-Catalog/Courses/GEOL-Geology\">GEOL - Geology</a></li><li><a href=\"/en/2020-2021/Undergraduate-Catalog/Courses/HIST-History\">HIST - History</a></li><li><a href=\"/en/2020-2021/Undergraduate-Catalog/Courses/HPER-Health-PE-Rec-and-Dance\">HPER - Health and Physical Education</a></li><li><a href=\"/en/2020-2021/Undergraduate-Catalog/Courses/HUM-Humanities\">HUM - Humanities</a></li><li><a href=\"/en/2020-2021/Undergraduate-Catalog/Courses/INCO-Inter-College\">INCO - Inter-College</a></li><li><a href=\"/en/2020-2021/Undergraduate-Catalog/Courses/INST-International-Study\">INST - International Study</a></li><li><a href=\"/en/2020-2021/Undergraduate-Catalog/Courses/LANG-Languages\">LANG - Languages</a></li><li><a href=\"/en/2020-2021/Undergraduate-Catalog/Courses/MATH-Mathematics-and-Statistics\">MATH - Mathematics and Statistics</a></li><li><a href=\"/en/2020-2021/Undergraduate-Catalog/Courses/MGMT-Management\">MGMT - Management</a></li><li><a href=\"/en/2020-2021/Undergraduate-Catalog/Courses/MILS-Military-Science\">MILS - Military Science</a></li><li><a href=\"/en/2020-2021/Undergraduate-Catalog/Courses/MKTG-Marketing\">MKTG - Marketing</a></li><li><a href=\"/en/2020-2021/Undergraduate-Catalog/Courses/MMED-Mass-Media\">MMED - Mass Media</a></li><li><a href=\"/en/2020-2021/Undergraduate-Catalog/Courses/MUS-Music\">MUS - Music</a></li><li><a href=\"/en/2020-2021/Undergraduate-Catalog/Courses/NANO-Nanoscale-Science\">NANO - Nanoscale Science</a></li><li><a href=\"/en/2020-2021/Undergraduate-Catalog/Courses/NURS-Nursing\">NURS - Nursing</a></li><li><a href=\"/en/2020-2021/Undergraduate-Catalog/Courses/NUTR-Foods-and-Nutrition\">NUTR - Foods and Nutrition</a></li><li><a href=\"/en/2020-2021/Undergraduate-Catalog/Courses/PHIL-Philosophy\">PHIL - Philosophy</a></li><li><a href=\"/en/2020-2021/Undergraduate-Catalog/Courses/PHSC-Physical-Science\">PHSC - Physical Science</a></li><li><a href=\"/en/2020-2021/Undergraduate-Catalog/Courses/PHYS-Physics\">PHYS - Physics</a></li><li><a href=\"/en/2020-2021/Undergraduate-Catalog/Courses/POLS-Political-Science\">POLS - Political Science</a></li><li><a href=\"/en/2020-2021/Undergraduate-Catalog/Courses/PSYC-Psychology\">PSYC - Psychology</a></li><li><a href=\"/en/2020-2021/Undergraduate-Catalog/Courses/REC-Recreation\">REC - Recreation</a></li><li><a href=\"/en/2020-2021/Undergraduate-Catalog/Courses/SCED-Science-Education\">SCED - Science Education</a></li><li><a href=\"/en/2020-2021/Undergraduate-Catalog/Courses/SCGD-School-Counseling\">SCGD - School Counseling</a></li><li><a href=\"/en/2020-2021/Undergraduate-Catalog/Courses/SOC-Sociology\">SOC - Sociology</a></li><li><a href=\"/en/2020-2021/Undergraduate-Catalog/Courses/THEA-Theatre\">THEA - Theatre</a></li>\n",
       " </ul>]"
      ]
     },
     "execution_count": 27,
     "metadata": {},
     "output_type": "execute_result"
    }
   ],
   "source": [
    "s.find_all('ul', {'class': 'sc-child-item-links'})"
   ]
  },
  {
   "cell_type": "code",
   "execution_count": null,
   "metadata": {},
   "outputs": [],
   "source": []
  }
 ],
 "metadata": {
  "kernelspec": {
   "display_name": "Python 3",
   "language": "python",
   "name": "python3"
  },
  "language_info": {
   "codemirror_mode": {
    "name": "ipython",
    "version": 3
   },
   "file_extension": ".py",
   "mimetype": "text/x-python",
   "name": "python",
   "nbconvert_exporter": "python",
   "pygments_lexer": "ipython3",
   "version": "3.8.6"
  }
 },
 "nbformat": 4,
 "nbformat_minor": 4
}
